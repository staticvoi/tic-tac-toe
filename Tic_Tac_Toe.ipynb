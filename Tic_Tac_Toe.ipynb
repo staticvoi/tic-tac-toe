{
  "nbformat": 4,
  "nbformat_minor": 0,
  "metadata": {
    "kernelspec": {
      "display_name": "Python 3",
      "language": "python",
      "name": "python3"
    },
    "language_info": {
      "codemirror_mode": {
        "name": "ipython",
        "version": 3
      },
      "file_extension": ".py",
      "mimetype": "text/x-python",
      "name": "python",
      "nbconvert_exporter": "python",
      "pygments_lexer": "ipython3",
      "version": "3.7.6"
    },
    "colab": {
      "name": "Tic Tac Toe",
      "provenance": []
    }
  },
  "cells": [
    {
      "cell_type": "code",
      "metadata": {
        "id": "Qw3jjXT4ZbyO",
        "colab_type": "code",
        "colab": {}
      },
      "source": [
        "from IPython.display import clear_output\n",
        "\n",
        "def display_board(board):\n",
        "    clear_output()\n",
        "    print(' '+board[7]+' | '+board[8]+' | '+board[9]+' ')\n",
        "    print('---------')\n",
        "    print(' '+board[4]+' | '+board[5]+' | '+board[6]+' ')\n",
        "    print('---------')\n",
        "    print(' '+board[1]+' | '+board[2]+' | '+board[3]+' ')\n",
        " "
      ],
      "execution_count": 1,
      "outputs": []
    },
    {
      "cell_type": "code",
      "metadata": {
        "id": "vbawo-AaZbyo",
        "colab_type": "code",
        "colab": {}
      },
      "source": [
        ""
      ],
      "execution_count": null,
      "outputs": []
    },
    {
      "cell_type": "code",
      "metadata": {
        "id": "gFZ4776RZby2",
        "colab_type": "code",
        "colab": {}
      },
      "source": [
        "board = ['#','X','O','X','O','X','O','X','O','X','O']"
      ],
      "execution_count": 2,
      "outputs": []
    },
    {
      "cell_type": "code",
      "metadata": {
        "id": "-QG0ejbiZbzM",
        "colab_type": "code",
        "colab": {
          "base_uri": "https://localhost:8080/",
          "height": 102
        },
        "outputId": "f1b31890-d5b3-4f1b-d092-b9b818e16faa"
      },
      "source": [
        "display_board(board)"
      ],
      "execution_count": 3,
      "outputs": [
        {
          "output_type": "stream",
          "text": [
            " X | O | X \n",
            "---------\n",
            " O | X | O \n",
            "---------\n",
            " X | O | X \n"
          ],
          "name": "stdout"
        }
      ]
    },
    {
      "cell_type": "code",
      "metadata": {
        "id": "fHRmwgvYZbzf",
        "colab_type": "code",
        "colab": {}
      },
      "source": [
        "def player_input():\n",
        "    marker = ''\n",
        "    \n",
        "    while not (marker == 'X' or marker == \"O\"):\n",
        "        marker = input(\"Enter a Marker X/O for player one : \").upper()\n",
        "    \n",
        "    if marker == 'X':\n",
        "        return ('X','O')\n",
        "    else:\n",
        "        return ('O','X')\n"
      ],
      "execution_count": 4,
      "outputs": []
    },
    {
      "cell_type": "code",
      "metadata": {
        "id": "qskOz2O-Zbzx",
        "colab_type": "code",
        "colab": {
          "base_uri": "https://localhost:8080/",
          "height": 68
        },
        "outputId": "41176325-cec5-4ad9-fab4-b4a8be01607c"
      },
      "source": [
        "player_input()"
      ],
      "execution_count": 5,
      "outputs": [
        {
          "output_type": "stream",
          "text": [
            "Enter a Marker X/O for player one : \n",
            "Enter a Marker X/O for player one : x\n"
          ],
          "name": "stdout"
        },
        {
          "output_type": "execute_result",
          "data": {
            "text/plain": [
              "('X', 'O')"
            ]
          },
          "metadata": {
            "tags": []
          },
          "execution_count": 5
        }
      ]
    },
    {
      "cell_type": "code",
      "metadata": {
        "id": "49EIHLncZb0F",
        "colab_type": "code",
        "colab": {}
      },
      "source": [
        "def place_marker(board,marker,position):\n",
        "    board[position] = marker"
      ],
      "execution_count": 6,
      "outputs": []
    },
    {
      "cell_type": "code",
      "metadata": {
        "id": "8nkBqJf4Zb0a",
        "colab_type": "code",
        "colab": {}
      },
      "source": [
        "place_marker(board,\"X\",5)"
      ],
      "execution_count": 7,
      "outputs": []
    },
    {
      "cell_type": "code",
      "metadata": {
        "id": "xvFG2WHhZb0s",
        "colab_type": "code",
        "colab": {
          "base_uri": "https://localhost:8080/",
          "height": 102
        },
        "outputId": "39d498f1-d49c-4e04-cd32-5dac292071bb"
      },
      "source": [
        "display_board(board)"
      ],
      "execution_count": 8,
      "outputs": [
        {
          "output_type": "stream",
          "text": [
            " X | O | X \n",
            "---------\n",
            " O | X | O \n",
            "---------\n",
            " X | O | X \n"
          ],
          "name": "stdout"
        }
      ]
    },
    {
      "cell_type": "code",
      "metadata": {
        "id": "8bi4dFgYZb05",
        "colab_type": "code",
        "colab": {}
      },
      "source": [
        "def win_check(board,marker):\n",
        "    \n",
        "    if( (board[7]==marker and board[8]==marker and board[9]==marker) or\n",
        "        (board[4]==marker and board[5]==marker and board[6]==marker) or\n",
        "        (board[1]==marker and board[2]==marker and board[3]==marker) or\n",
        "        (board[7]==marker and board[4]==marker and board[1]==marker) or\n",
        "        (board[8]==marker and board[5]==marker and board[2]==marker) or\n",
        "        (board[9]==marker and board[6]==marker and board[3]==marker) or\n",
        "        (board[7]==marker and board[5]==marker and board[3]==marker) or\n",
        "        (board[9]==marker and board[5]==marker and board[1]==marker)):\n",
        "        return True\n",
        "    else:\n",
        "        return False"
      ],
      "execution_count": 9,
      "outputs": []
    },
    {
      "cell_type": "code",
      "metadata": {
        "id": "kiBoZ6lKZb1F",
        "colab_type": "code",
        "colab": {},
        "outputId": "26bed75d-9ff9-4ab9-d162-0805e4d2673d"
      },
      "source": [
        "win_check(board,'X')"
      ],
      "execution_count": null,
      "outputs": [
        {
          "output_type": "execute_result",
          "data": {
            "text/plain": [
              "True"
            ]
          },
          "metadata": {
            "tags": []
          },
          "execution_count": 11
        }
      ]
    },
    {
      "cell_type": "code",
      "metadata": {
        "id": "-c0HWo5RZb1S",
        "colab_type": "code",
        "colab": {},
        "outputId": "2c12dd2d-3cb9-424f-9ac2-b7a50de4d9f3"
      },
      "source": [
        "win_check(board,'O')"
      ],
      "execution_count": null,
      "outputs": [
        {
          "output_type": "execute_result",
          "data": {
            "text/plain": [
              "False"
            ]
          },
          "metadata": {
            "tags": []
          },
          "execution_count": 12
        }
      ]
    },
    {
      "cell_type": "code",
      "metadata": {
        "id": "CHES4t7nZb1e",
        "colab_type": "code",
        "colab": {}
      },
      "source": [
        "import random \n",
        "\n",
        "def choose_first():\n",
        "    num = random.randint(0,1)\n",
        "    \n",
        "    if num == 1:\n",
        "        return 'Player 1'\n",
        "    else:\n",
        "        return 'Player 2'"
      ],
      "execution_count": null,
      "outputs": []
    },
    {
      "cell_type": "code",
      "metadata": {
        "id": "ffUqJwztZb1y",
        "colab_type": "code",
        "colab": {},
        "outputId": "f2dab5ca-35c3-47bc-b21c-1f006f3aa2c0"
      },
      "source": [
        "choose_first()"
      ],
      "execution_count": null,
      "outputs": [
        {
          "output_type": "execute_result",
          "data": {
            "text/plain": [
              "'Player 1'"
            ]
          },
          "metadata": {
            "tags": []
          },
          "execution_count": 14
        }
      ]
    },
    {
      "cell_type": "code",
      "metadata": {
        "id": "LPc4GJ_zZb2M",
        "colab_type": "code",
        "colab": {}
      },
      "source": [
        "board = ['#','X',' ',' ','O','X',' ','X',' ','X','O']"
      ],
      "execution_count": null,
      "outputs": []
    },
    {
      "cell_type": "code",
      "metadata": {
        "id": "6YnbITvZZb2Y",
        "colab_type": "code",
        "colab": {}
      },
      "source": [
        "def space_check(board,position):\n",
        "    return board[position] == ' '"
      ],
      "execution_count": null,
      "outputs": []
    },
    {
      "cell_type": "code",
      "metadata": {
        "id": "AFbYcXk7Zb2k",
        "colab_type": "code",
        "colab": {},
        "outputId": "9009ba42-c7e9-4f7f-809a-66943502e507"
      },
      "source": [
        "space_check(board,6)"
      ],
      "execution_count": null,
      "outputs": [
        {
          "output_type": "execute_result",
          "data": {
            "text/plain": [
              "True"
            ]
          },
          "metadata": {
            "tags": []
          },
          "execution_count": 17
        }
      ]
    },
    {
      "cell_type": "code",
      "metadata": {
        "id": "K9ktApwLZb2x",
        "colab_type": "code",
        "colab": {}
      },
      "source": [
        "def full_board_check(board):\n",
        "    isFull = True\n",
        "    for i in board:\n",
        "        if i == ' ':\n",
        "            isFull = False\n",
        "    return isFull\n",
        "        "
      ],
      "execution_count": null,
      "outputs": []
    },
    {
      "cell_type": "code",
      "metadata": {
        "id": "MG4Bca0LZb3H",
        "colab_type": "code",
        "colab": {},
        "outputId": "04e6bc3f-43f4-4855-ba56-b02bd55d2238"
      },
      "source": [
        "full_board_check(board)"
      ],
      "execution_count": null,
      "outputs": [
        {
          "output_type": "execute_result",
          "data": {
            "text/plain": [
              "False"
            ]
          },
          "metadata": {
            "tags": []
          },
          "execution_count": 19
        }
      ]
    },
    {
      "cell_type": "code",
      "metadata": {
        "id": "VjskktDYZb3T",
        "colab_type": "code",
        "colab": {}
      },
      "source": [
        "def full_board_check(board):\n",
        "    for i in range(1,10):\n",
        "        if space_check(board,i):\n",
        "            return False\n",
        "    return True"
      ],
      "execution_count": null,
      "outputs": []
    },
    {
      "cell_type": "code",
      "metadata": {
        "id": "lG7pKfSLZb3e",
        "colab_type": "code",
        "colab": {},
        "outputId": "f2895fd9-11d5-42c5-af3b-5552652a76df"
      },
      "source": [
        "full_board_check(board)"
      ],
      "execution_count": null,
      "outputs": [
        {
          "output_type": "execute_result",
          "data": {
            "text/plain": [
              "False"
            ]
          },
          "metadata": {
            "tags": []
          },
          "execution_count": 21
        }
      ]
    },
    {
      "cell_type": "code",
      "metadata": {
        "id": "PAY92nnmZb3q",
        "colab_type": "code",
        "colab": {}
      },
      "source": [
        "def players_choice(board):\n",
        "    position = 0\n",
        "    \n",
        "    while not position in [1,2,3,4,5,6,7,8,9] or not space_check(board,position) : \n",
        "        position = int(input(\"Enter your next position : \"))\n",
        "        \n",
        "    return position"
      ],
      "execution_count": null,
      "outputs": []
    },
    {
      "cell_type": "code",
      "metadata": {
        "id": "M5f0WHPWZb31",
        "colab_type": "code",
        "colab": {},
        "outputId": "f4a8f076-bbf0-4db3-d623-442f76fd1461"
      },
      "source": [
        "players_choice(board)"
      ],
      "execution_count": null,
      "outputs": [
        {
          "output_type": "stream",
          "text": [
            "Enter your next position : 4\n",
            "Enter your next position : 3\n"
          ],
          "name": "stdout"
        },
        {
          "output_type": "execute_result",
          "data": {
            "text/plain": [
              "3"
            ]
          },
          "metadata": {
            "tags": []
          },
          "execution_count": 23
        }
      ]
    },
    {
      "cell_type": "code",
      "metadata": {
        "id": "iI50h1ztZb4D",
        "colab_type": "code",
        "colab": {}
      },
      "source": [
        "def replay():\n",
        "    return input(\"Do you want to play again (Y/N) : \").lower().startswith('y')"
      ],
      "execution_count": null,
      "outputs": []
    },
    {
      "cell_type": "code",
      "metadata": {
        "id": "q1wqThPTZb4a",
        "colab_type": "code",
        "colab": {},
        "outputId": "19b10627-477f-4a95-aff1-4d24f2e2fb4b"
      },
      "source": [
        "replay()"
      ],
      "execution_count": null,
      "outputs": [
        {
          "output_type": "stream",
          "text": [
            "Do you want to play again (Y/N) : y\n"
          ],
          "name": "stdout"
        },
        {
          "output_type": "execute_result",
          "data": {
            "text/plain": [
              "True"
            ]
          },
          "metadata": {
            "tags": []
          },
          "execution_count": 25
        }
      ]
    },
    {
      "cell_type": "code",
      "metadata": {
        "id": "BuYdFBpDZb4u",
        "colab_type": "code",
        "colab": {
          "base_uri": "https://localhost:8080/",
          "height": 248
        },
        "outputId": "f95cc076-fcf4-4c68-e9bd-8725ada7e122"
      },
      "source": [
        "# Here Comes the final Assembly of the game \n",
        "\n",
        "\n",
        "while True:\n",
        "    \n",
        "    board = [' ']* 10\n",
        "    \n",
        "    \n",
        "    player1_marker, player2_marker = player_input()\n",
        "    turn = choose_first()\n",
        "    \n",
        "    print(turn + \" Will play First\")\n",
        "    \n",
        "    play_game = input(\"Are you ready to play the game Y/N\").lower().startswith('y')\n",
        "    \n",
        "    if play_game:\n",
        "        game_on = True\n",
        "    else:\n",
        "        game_on = False\n",
        "    \n",
        "    while game_on:\n",
        "        if turn == 'Player 1':\n",
        "            # Game logic starts here for player 1 \n",
        "            \n",
        "            display_board(board)\n",
        "            position = players_choice(board)\n",
        "            place_marker(board,player1_marker,position)\n",
        "            \n",
        "            if win_check(board,player1_marker):\n",
        "                display_board(board)\n",
        "                print(\"Player 1 Won the game!! congratzz\")\n",
        "                game_on = False\n",
        "            else:\n",
        "                if full_board_check(board):\n",
        "                    display_board(board)\n",
        "                    print('The Game is Draw, Better luck next time !!')\n",
        "                    break\n",
        "                else:\n",
        "                    turn = \"Player 2\"\n",
        "        else:\n",
        "            # Player 2 Logic \n",
        "            \n",
        "            display_board(board)\n",
        "            position = players_choice(board)\n",
        "            place_marker(board,player2_marker,position)\n",
        "            \n",
        "            if win_check(board,player2_marker):\n",
        "                display_board(board)\n",
        "                print(\"Player 2 Won the game!! congratzz\")\n",
        "                game_on = False\n",
        "            else:\n",
        "                if full_board_check(board):\n",
        "                    display_board(board)\n",
        "                    print('The Game is Draw, Better luck next time !!')\n",
        "                    break\n",
        "                else:\n",
        "                    turn = \"Player 1\"\n",
        "    \n",
        "    if not replay():\n",
        "        break "
      ],
      "execution_count": 10,
      "outputs": [
        {
          "output_type": "stream",
          "text": [
            "Enter a Marker X/O for player one : x\n"
          ],
          "name": "stdout"
        },
        {
          "output_type": "error",
          "ename": "NameError",
          "evalue": "ignored",
          "traceback": [
            "\u001b[0;31m---------------------------------------------------------------------------\u001b[0m",
            "\u001b[0;31mNameError\u001b[0m                                 Traceback (most recent call last)",
            "\u001b[0;32m<ipython-input-10-ca2457d1e888>\u001b[0m in \u001b[0;36m<module>\u001b[0;34m()\u001b[0m\n\u001b[1;32m      8\u001b[0m \u001b[0;34m\u001b[0m\u001b[0m\n\u001b[1;32m      9\u001b[0m     \u001b[0mplayer1_marker\u001b[0m\u001b[0;34m,\u001b[0m \u001b[0mplayer2_marker\u001b[0m \u001b[0;34m=\u001b[0m \u001b[0mplayer_input\u001b[0m\u001b[0;34m(\u001b[0m\u001b[0;34m)\u001b[0m\u001b[0;34m\u001b[0m\u001b[0;34m\u001b[0m\u001b[0m\n\u001b[0;32m---> 10\u001b[0;31m     \u001b[0mturn\u001b[0m \u001b[0;34m=\u001b[0m \u001b[0mchoose_first\u001b[0m\u001b[0;34m(\u001b[0m\u001b[0;34m)\u001b[0m\u001b[0;34m\u001b[0m\u001b[0;34m\u001b[0m\u001b[0m\n\u001b[0m\u001b[1;32m     11\u001b[0m \u001b[0;34m\u001b[0m\u001b[0m\n\u001b[1;32m     12\u001b[0m     \u001b[0mprint\u001b[0m\u001b[0;34m(\u001b[0m\u001b[0mturn\u001b[0m \u001b[0;34m+\u001b[0m \u001b[0;34m\" Will play First\"\u001b[0m\u001b[0;34m)\u001b[0m\u001b[0;34m\u001b[0m\u001b[0;34m\u001b[0m\u001b[0m\n",
            "\u001b[0;31mNameError\u001b[0m: name 'choose_first' is not defined"
          ]
        }
      ]
    },
    {
      "cell_type": "code",
      "metadata": {
        "id": "H1WJQd8sZb5N",
        "colab_type": "code",
        "colab": {}
      },
      "source": [
        ""
      ],
      "execution_count": null,
      "outputs": []
    }
  ]
}